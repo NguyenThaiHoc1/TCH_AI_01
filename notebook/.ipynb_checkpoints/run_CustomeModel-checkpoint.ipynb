{
 "cells": [
  {
   "cell_type": "code",
   "execution_count": 2,
   "id": "11c24545",
   "metadata": {
    "pycharm": {
     "is_executing": false
    }
   },
   "outputs": [],
   "source": [
    "# import package\n",
    "import os\n",
    "import numpy as np\n",
    "import pandas as pd\n",
    "import tensorflow as tf\n",
    "from sklearn.preprocessing import OneHotEncoder\n"
   ]
  },
  {
   "cell_type": "code",
   "execution_count": null,
   "id": "0413e683",
   "metadata": {},
   "outputs": [],
   "source": [
    "!mkdir dataset\n",
    "!mkdir result\n",
    "!mkdir result/customer\n",
    "!wget \"https://drive.google.com/uc?export=download&id=1xT_3uZk82jL5obv7SYzNoFh8c2MML1xn\" -O ./dataset/dataset.xlsx"
   ]
  },
  {
   "cell_type": "code",
   "execution_count": 9,
   "id": "112f5138",
   "metadata": {},
   "outputs": [],
   "source": [
    "path_root = os.path.dirname(os.path.abspath('')) # get path root folder\n",
    "path_dataset = os.path.join(path_root, 'dataset', 'dataset.xlsx')\n",
    "path_result_file = os.path.join(path_root, 'result', 'customer')\n",
    "file_save_result = os.path.join(path_result_file, 'result.csv')"
   ]
  },
  {
   "cell_type": "code",
   "execution_count": 10,
   "id": "3327af08",
   "metadata": {},
   "outputs": [],
   "source": [
    "def load_sensor_data(path):\n",
    "    return pd.read_excel(path, skiprows = range(0, 2))\n",
    "\n",
    "def drop_column(df):\n",
    "    x = [0, 1, 2, 3, 4] #  0: Unnamed-0, Unnamed-1, Unnamed-2,  データＩＤ, Time\n",
    "    df_droped = df.drop(df.columns[x], axis=1)\n",
    "    return df_droped\n",
    "\n",
    "\n",
    "# Task 1: Loading data from file excel \n",
    "data = load_sensor_data(path=path_dataset)\n",
    "\n",
    "# Task 2: change name column\n",
    "data_copy = data.copy()\n",
    "data_copy.rename(columns={'Unnamed: 0': 'datecheck-ID', \n",
    "                          'Unnamed: 1': 'shoes-ID',\n",
    "                          'Unnamed: 2': 'balance-status',\n",
    "                          'データＩＤ':'set-ID',\n",
    "                         }, inplace = True)\n",
    "\n",
    "# Task 3: removing feature which relate to train\n",
    "data_copy = drop_column(df=data_copy)"
   ]
  },
  {
   "cell_type": "code",
   "execution_count": 11,
   "id": "b1c1287a",
   "metadata": {},
   "outputs": [],
   "source": [
    "# function from customer ... \n",
    "# def label_Integerization(label):\n",
    "#     uniq_label = np.unique(label)\n",
    "#     int_label=[]\n",
    "#     for i in range(len(label)):\n",
    "#         c_nn = label[i]\n",
    "#         for j in range(len(uniq_label)):\n",
    "#             if c_nn == uniq_label[j]:\n",
    "#                 int_label.append((j+1))\n",
    "#                 break\n",
    "#     return np.array(int_label)\n",
    "\n",
    "# Cái này không cần thiết\n",
    "# X = np.array(y_train.reshape(-1,1))\n",
    "# enc = OneHotEncoder(categories=\"auto\", sparse=False, dtype=np.int32)\n",
    "# y_train_xx = enc.fit_transform(X)"
   ]
  },
  {
   "cell_type": "code",
   "execution_count": 136,
   "id": "25a1ff2b",
   "metadata": {},
   "outputs": [
    {
     "name": "stdout",
     "output_type": "stream",
     "text": [
      "X Shape is:  (236388, 48)\n",
      "Y Shape is:  (236388, 6)\n"
     ]
    }
   ],
   "source": [
    "selcol = [\"L-Fx1\",\"L-Fy1\",\"L-Fz1\",\"L-Mx1\",\"L-My1\",\"L-Mz1\",\n",
    "          \"L-Fx2\",\"L-Fy2\",\"L-Fz2\",\"L-Mx2\",\"L-My2\",\"L-Mz2\",\n",
    "          \"L-Fx3\",\"L-Fy3\",\"L-Fz3\",\"L-Mx3\",\"L-My3\",\"L-Mz3\",\n",
    "          \"L-AccelX\",\"L-AccelY\",\"L-AccelZ\",\"L-GyroX\",\"L-GyroY\",\"L-GyroZ\",\n",
    "          \"R-Fx1\",\"R-Fy1\",\"R-Fz1\",\"R-Mx1\",\"R-My1\",\"R-Mz1\",\"R-Fx2\",\"R-Fy2\",\"R-Fz2\",\n",
    "          \"R-Mx2\",\"R-My2\",\"R-Mz2\",\"R-Fx3\",\"R-Fy3\",\"R-Fz3\",\"R-Mx3\",\"R-My3\",\"R-Mz3\",\n",
    "          \"R-AccelX\",\"R-AccelY\",\"R-AccelZ\",\"R-GyroX\",\"R-GyroY\",\"R-GyroZ\"]\n",
    "    \n",
    "lblcol = [\"L-FX\",\"L-FY\",\"L-FZ\",\"R-FX\",\"R-FY\",\"R-FZ\"]\n",
    "\n",
    "x_train = data_copy[selcol].values # input \n",
    "y_train = data_copy[lblcol].values # labels <--- \n",
    "\n",
    "print(\"X Shape is: \", x_train.shape)\n",
    "print(\"Y Shape is: \", y_train.shape)"
   ]
  },
  {
   "cell_type": "code",
   "execution_count": 163,
   "id": "17bf4c10",
   "metadata": {},
   "outputs": [],
   "source": [
    "from tensorflow.keras.models import Sequential\n",
    "from tensorflow.keras.layers import Dense, Dropout, Activation, BatchNormalization\n",
    "from tensorflow.keras import optimizers\n",
    "from tensorflow.keras.models import load_model\n",
    "\n",
    "class LossHistory(tf.keras.callbacks.Callback):\n",
    "    def on_train_begin(self,logs={}):\n",
    "        self.losses = []\n",
    "    def on_batch_end(self,batch,logs={}):\n",
    "        self.losses.append(logs.get('loss'))\n",
    "\n",
    "def set_callback(name_type):\n",
    "    if name_type == 'history':\n",
    "        return LossHistory\n",
    "    elif 'tensorboard' in name_type:\n",
    "        check_folds = name_type.split('_')\n",
    "        if len(check_folds) > 1:\n",
    "            numberfolds = check_folds[1]\n",
    "            logs = os.path.join(path_result_file, \"folds\", \"tensorboard_%s\" % (str(numberfolds)))\n",
    "            return tf.keras.callbacks.TensorBoard(log_dir=logs)\n",
    "            \n",
    "        else:\n",
    "            logs = os.path.join(path_result_file, \"tensorboard\")\n",
    "            return tf.keras.callbacks.TensorBoard(log_dir=logs)\n",
    "    \n",
    "    elif 'checkpoint' in name_type:\n",
    "        # \"weights_%s_{epoch:02d}_{accuracy:.2f}.h5\" % (str(numberfolds))\n",
    "        check_folds = name_type.split('_')\n",
    "        if len(check_folds) > 1:\n",
    "            numberfolds = check_folds[1]\n",
    "            saving_path = os.path.join(path_result_file, \"checkpoint\", \"weights_%s.h5\" % (str(numberfolds)))\n",
    "            return tf.keras.callbacks.ModelCheckpoint(saving_path,\n",
    "                                                      verbose=1,\n",
    "                                                      monitor=\"mse\",\n",
    "                                                      save_best_only=True,\n",
    "                                                      mode='auto') # save_best_only=True, mode='auto'\n",
    "            \n",
    "        else:\n",
    "            saving_path = os.path.join(path_result_file, \"checkpoint\", \"weights_{epoch:02d}_{accuracy:.2f}.h5\")\n",
    "            return tf.keras.callbacks.ModelCheckpoint(saving_path,\n",
    "                                                      verbose=1,\n",
    "                                                      monitor=\"mse\",\n",
    "                                                      save_best_only=True,\n",
    "                                                      mode='auto') # save_best_only=True, mode='auto'\n",
    "\n",
    "\n",
    "class DNN(object):\n",
    "    def __init__(self, n_input, n_hiddens, n_out, activation='relu',\n",
    "                 kernel_initializer='he_normal', optimize='Adam', param={'rate': 0.001, \"beta1\": 0.9, \"beta2\": 0.999},\n",
    "                 loss='categorical_crossentropy', on_softmax=True):\n",
    "\n",
    "        self.n_in = n_input\n",
    "        self.n_hiddens = n_hiddens\n",
    "        self.n_out = n_out\n",
    "        self.activation = activation\n",
    "        self.kernel_initializer = kernel_initializer\n",
    "        self.optimize = self.set_optimizer(optimize, param)\n",
    "        self.loss = loss\n",
    "        self.on_softmax = on_softmax\n",
    "        self.callback = None\n",
    "        self.hist = None\n",
    "\n",
    "    def set_optimizer(self, optimize, param):\n",
    "        if optimize == 'Adam':\n",
    "            learning_rate = param['rate']\n",
    "            beta1 = param['beta1']\n",
    "            beta2 = param['beta2']\n",
    "            optimizer = optimizers.Adam(lr=learning_rate, beta_1=beta1, beta_2=beta2)\n",
    "        elif optimize == 'SGD':\n",
    "            lr = prm['lr']\n",
    "            momentum = param['mometum']\n",
    "            self.optimizer = optimizers.SGD(lr, momentum)\n",
    "        elif optimize == 'Nest':\n",
    "            lr = param['lr']\n",
    "            momentum = param['mometum']\n",
    "            optimizer = optimizers.SGD(lr, momentum, nesterov=True)\n",
    "        elif optimize == 'Adagrad':\n",
    "            lr = param['lr']\n",
    "            optimizer = optimizers.Adagrad(lr)\n",
    "        elif optimize == 'Adadelta':\n",
    "            rho = param['rho']\n",
    "            optimizer = optimizers.Adadelta(rho=rho)\n",
    "        elif optimize == 'RMSProp':\n",
    "            lr = param['lr']\n",
    "            optimizer = optimizers.RMSprop(lr)\n",
    "        else:\n",
    "            learning_rate = param['rate']\n",
    "            beta1 = param['beta1']\n",
    "            beta2 = param['beta2']\n",
    "            optimizer = optimizers.Adam(lr=learning_rate, beta_1=beta1, beta_2=beta2)\n",
    "\n",
    "        return optimizer\n",
    "\n",
    "    def make_model_bach_normalization(self):\n",
    "        model = Sequential()\n",
    "        model.add(Dense(self.n_hiddens[0], kernel_initializer=self.kernel_initializer,\n",
    "                        input_shape=(self.n_in,)))\n",
    "        model.add(BatchNormalization())\n",
    "        model.add(Activation(self.activation))\n",
    "        model.add(Dropout(0.5))\n",
    "        for i in range(1, len(self.n_hiddens)):\n",
    "            model.add(Dense(self.n_hiddens[i], kernel_initializer=self.kernel_initializer))\n",
    "            model.add(BatchNormalization())\n",
    "            model.add(Activation(self.activation))\n",
    "            model.add(Dropout(0.5))\n",
    "        if self.on_softmax:\n",
    "            model.add(Dense(self.n_out, kernel_initializer=self.kernel_initializer,\n",
    "                            activation='softmax'))\n",
    "        else:\n",
    "            model.add(Dense(self.n_out))\n",
    "\n",
    "        model.summary()\n",
    "        self.model = model\n",
    "        self.model.compile(optimizer=self.optimize,\n",
    "                           loss=self.loss,\n",
    "                           metrics=['mae', 'mse']) # for regression problems \n",
    "\n",
    "    def make_model(self):\n",
    "        model = Sequential()\n",
    "        model.add(Dense(self.n_hiddens[0], kernel_initializer=self.kernel_initializer,\n",
    "                        input_shape=(self.n_in,)))\n",
    "        model.add(Activation(self.activation))\n",
    "        model.add(Dropout(0.5))\n",
    "        for i in range(1, len(self.n_hiddens)):\n",
    "            model.add(Dense(self.n_hiddens[i], kernel_initializer=self.kernel_initializer))\n",
    "            model.add(Activation(self.activation))\n",
    "            model.add(Dropout(0.5))\n",
    "        if self.on_softmax:\n",
    "            model.add(Dense(self.n_out, kernel_initializer=self.kernel_initializer,\n",
    "                            activation='softmax'))\n",
    "        else:\n",
    "            model.add(Dense(self.n_out))\n",
    "\n",
    "        model.summary()\n",
    "        self.model = model\n",
    "        self.model.compile(optimizer=self.optimize,\n",
    "                           loss=self.loss,\n",
    "                           metrics=['mae', 'mse'])\n",
    "\n",
    "    def set_callback(self, callback_type):\n",
    "        list_callback = []\n",
    "        for name_callback in callback_type:\n",
    "            callback = set_callback(name_type=name_callback)\n",
    "            list_callback.append(callback)\n",
    "        self.callback = list_callback        \n",
    "\n",
    "    def calc_fit(self, x_data, y_data, epoch=10,\n",
    "                 batch_size=5, verbose=2, validation=None):\n",
    "        print(\">>> Calc fit shape is : %s  -  %s\" % (x_data.shape, y_data.shape))\n",
    "        if validation is None:\n",
    "            if self.callback is None:\n",
    "                self.hist = self.model.fit(x_data, y_data, epochs=epoch,\n",
    "                                           batch_size=batch_size, \n",
    "                                           verbose=verbose)\n",
    "            else:\n",
    "                self.hist = self.model.fit(x_data, y_data, epochs=epoch,\n",
    "                                           batch_size=batch_size, \n",
    "                                           verbose=verbose, \n",
    "                                           callbacks=self.callback)\n",
    "        else:\n",
    "            if self.callback is None:\n",
    "                self.hist = self.model.fit(x_data, y_data, epochs=epoch,\n",
    "                                           batch_size=batch_size, \n",
    "                                           verbose=verbose, \n",
    "                                           validation_data=validation)\n",
    "            else:\n",
    "                self.hist = self.model.fit(x_data, y_data, epochs=epoch,\n",
    "                                           batch_size=batch_size, \n",
    "                                           verbose=verbose, \n",
    "                                           validation_data=validation,\n",
    "                                           callbacks=self.callback)\n",
    "\n",
    "    def get_history_data(self):\n",
    "        return self.hist\n",
    "\n",
    "    def evaluate(self, x_test, y_test, varbose=0):\n",
    "        loss, mae, mse = self.model.evaluate(x_test, y_test, verbose=varbose)\n",
    "        return loss, mae, mse\n",
    "\n",
    "    def predict(self, x_test, varbose=0):\n",
    "        pred = self.model.predict(x_test)\n",
    "        return pred\n",
    "\n",
    "    def save_model(self, outf):\n",
    "        self.model.save(outf)  # モデルを保存\n",
    "\n",
    "    def load_model(self, inpf, show=True):\n",
    "        self.model = None\n",
    "        self.model = load_model(inpf)\n",
    "        if show:\n",
    "            self.model.summary()\n"
   ]
  },
  {
   "cell_type": "code",
   "execution_count": 164,
   "id": "3f1bfeaf",
   "metadata": {},
   "outputs": [],
   "source": [
    "def main_1(x_train, y_train, file_save):\n",
    "    n_inp = 48\n",
    "    n_hidden = [150, 50, 10]\n",
    "    n_out = 6 # n_out = 1 - is wrong about when MSE calculate the loss \n",
    "    epoch = 1000\n",
    "    \n",
    "    # setting training \n",
    "    dnn = DNN(n_inp, n_hidden, n_out, loss='mse', optimize='RMSProp', param={'lr':0.001}, on_softmax=False)\n",
    "    dnn.make_model_bach_normalization()\n",
    "    dnn.set_callback(callback_type=['tensorboard', 'checkpoint'])\n",
    "    dnn.calc_fit(x_train, y_train, batch_size=30, epoch=epoch)    \n",
    "    \n",
    "    # write result\n",
    "    hist = dnn.get_history_data()\n",
    "    list_d = []\n",
    "    step = [x + 1 for x in range(epoch)]\n",
    "    mae = hist.history['mae']\n",
    "    mse = hist.history['mse']\n",
    "    loss = hist.history['loss']\n",
    "    for i in range(len(step)):\n",
    "        c_d = [step[i], loss[i], mae[i], mse[i]]\n",
    "        list_d.append(c_d)\n",
    "    \n",
    "    # write file csv \n",
    "    d_hist = pd.DataFrame(list_d, columns=['step','loss', 'mae', 'mse'])\n",
    "    d_hist.to_csv(file_save, index=False)"
   ]
  },
  {
   "cell_type": "code",
   "execution_count": 165,
   "id": "26b67b64",
   "metadata": {},
   "outputs": [],
   "source": [
    "from sklearn.model_selection import StratifiedKFold \n",
    "\n",
    "def main_crossvalidation(x_train, y_train, file_save):\n",
    "    # get info\n",
    "    basename = os.path.basename(file_save_result)\n",
    "    dirname = os.path.dirname(file_save_result)\n",
    "    \n",
    "    # parameter for training \n",
    "    n_inp = 48\n",
    "    n_hidden = [150, 50, 10]\n",
    "    n_out = 6 # n_out = 1 - is wrong about when MSE calculate the loss \n",
    "    epoch = 5\n",
    "    \n",
    "    # init cross validation\n",
    "    from sklearn.model_selection import KFold\n",
    "    kfold = KFold(n_splits=5, shuffle=True, random_state=42)\n",
    "    \n",
    "    \n",
    "    VALIDATION_MSE = []\n",
    "    VALIDATION_MAE = []\n",
    "    VALIDATION_LOSS = []\n",
    "    \n",
    "    for index, (train_index, test_index) in enumerate(kfold.split(x_train, y_train)):\n",
    "        print(\">>> FOLD is %s\" % (str(index)))\n",
    "        file_save = str(basename.split('.')[0] + '_%s' % (index + 1)) + str(basename.split('.')[1])\n",
    "        abs_path = os.path.join(dirname, file_save)\n",
    "        \n",
    "        X_train_folds = x_train[train_index]\n",
    "        y_train_folds = y_train[train_index]\n",
    "        \n",
    "        X_test_fold = x_train[test_index]\n",
    "        y_test_fold = y_train[test_index]\n",
    "        \n",
    "        # Clone model \n",
    "        dnn = DNN(n_inp, n_hidden, n_out, loss='mse', optimize='RMSProp', param={'lr':0.0001}, on_softmax=False)\n",
    "        dnn.make_model_bach_normalization()\n",
    "        dnn.set_callback(callback_type=['tensorboard_%s' % (index + 1), 'checkpoint_%s' % (index + 1)])\n",
    "        dnn.calc_fit(X_train_folds, y_train_folds, \n",
    "                     batch_size=128, \n",
    "                     epoch=epoch) # FJN: 128\n",
    "        \n",
    "        \n",
    "        # write result\n",
    "        hist = dnn.get_history_data()\n",
    "        list_d = []\n",
    "        step = [x + 1 for x in range(epoch)]\n",
    "        mae = hist.history['mae']\n",
    "        mse = hist.history['mse']\n",
    "        loss = hist.history['loss']\n",
    "        for i in range(len(step)):\n",
    "            c_d = [step[i], loss[i], mae[i], mse[i]]\n",
    "            list_d.append(c_d)\n",
    "\n",
    "        # write file csv \n",
    "        d_hist = pd.DataFrame(list_d, columns=['step','loss', 'mae', 'mse'])\n",
    "        d_hist.to_csv(abs_path, index=False)\n",
    "        \n",
    "        # LOAD BEST MODEL to evaluate the performance of the model\n",
    "        savedmodel_path = os.path.join(path_result_file, \"checkpoint\", \"weights_%s.h5\" % (str(index + 1)))\n",
    "        dnn.load_model(savedmodel_path, show=False)\n",
    "        \n",
    "        results = dnn.evaluate(x_test=X_test_fold, y_test=y_test_fold)\n",
    "        # nghĩ tới việc sử dụng các TH metrics đánh giá khác: RMSE hay MSE, MAE \n",
    "        # Độ đo của accuracy không ổn lắm \n",
    "        VALIDATION_MSE.append(results[2])\n",
    "        VALIDATION_MAE.append(results[1])\n",
    "        VALIDATION_LOSS.append(results[0])\n",
    "        \n",
    "        tf.keras.backend.clear_session()\n",
    "        \n",
    "    return VALIDATION_LOSS, VALIDATION_MAE, VALIDATION_MSE"
   ]
  },
  {
   "cell_type": "code",
   "execution_count": 166,
   "id": "9dc7e9df",
   "metadata": {},
   "outputs": [
    {
     "name": "stdout",
     "output_type": "stream",
     "text": [
      "Shape Training Data: ((236388, 48), (236388, 6))\n",
      ">>> FOLD is 0\n",
      "Model: \"sequential_2\"\n",
      "_________________________________________________________________\n",
      " Layer (type)                Output Shape              Param #   \n",
      "=================================================================\n",
      " dense_8 (Dense)             (None, 150)               7350      \n",
      "                                                                 \n",
      " batch_normalization_6 (Batc  (None, 150)              600       \n",
      " hNormalization)                                                 \n",
      "                                                                 \n",
      " activation_6 (Activation)   (None, 150)               0         \n",
      "                                                                 \n",
      " dropout_6 (Dropout)         (None, 150)               0         \n",
      "                                                                 \n",
      " dense_9 (Dense)             (None, 50)                7550      \n",
      "                                                                 \n",
      " batch_normalization_7 (Batc  (None, 50)               200       \n",
      " hNormalization)                                                 \n",
      "                                                                 \n",
      " activation_7 (Activation)   (None, 50)                0         \n",
      "                                                                 \n",
      " dropout_7 (Dropout)         (None, 50)                0         \n",
      "                                                                 \n",
      " dense_10 (Dense)            (None, 10)                510       \n",
      "                                                                 \n",
      " batch_normalization_8 (Batc  (None, 10)               40        \n",
      " hNormalization)                                                 \n",
      "                                                                 \n",
      " activation_8 (Activation)   (None, 10)                0         \n",
      "                                                                 \n",
      " dropout_8 (Dropout)         (None, 10)                0         \n",
      "                                                                 \n",
      " dense_11 (Dense)            (None, 6)                 66        \n",
      "                                                                 \n",
      "=================================================================\n",
      "Total params: 16,316\n",
      "Trainable params: 15,896\n",
      "Non-trainable params: 420\n",
      "_________________________________________________________________\n",
      ">>> Calc fit shape is : (189110, 48)  -  (189110, 6)\n",
      "Epoch 1/5\n",
      "\n",
      "Epoch 00001: mse improved from inf to 57521.46484, saving model to /Users/thaihoc/Desktop/TCH_AI/result/customer/checkpoint/weights_1.h5\n",
      "1478/1478 - 23s - loss: 57521.4648 - mae: 113.2410 - mse: 57521.4648 - 23s/epoch - 15ms/step\n",
      "Epoch 2/5\n",
      "\n",
      "Epoch 00002: mse improved from 57521.46484 to 57173.15625, saving model to /Users/thaihoc/Desktop/TCH_AI/result/customer/checkpoint/weights_1.h5\n",
      "1478/1478 - 8s - loss: 57173.1562 - mae: 112.8845 - mse: 57173.1562 - 8s/epoch - 5ms/step\n",
      "Epoch 3/5\n",
      "\n",
      "Epoch 00003: mse improved from 57173.15625 to 56793.71875, saving model to /Users/thaihoc/Desktop/TCH_AI/result/customer/checkpoint/weights_1.h5\n",
      "1478/1478 - 6s - loss: 56793.7188 - mae: 112.5252 - mse: 56793.7188 - 6s/epoch - 4ms/step\n",
      "Epoch 4/5\n",
      "\n",
      "Epoch 00004: mse improved from 56793.71875 to 56324.78516, saving model to /Users/thaihoc/Desktop/TCH_AI/result/customer/checkpoint/weights_1.h5\n",
      "1478/1478 - 6s - loss: 56324.7852 - mae: 112.0731 - mse: 56324.7852 - 6s/epoch - 4ms/step\n",
      "Epoch 5/5\n",
      "\n",
      "Epoch 00005: mse improved from 56324.78516 to 55743.59766, saving model to /Users/thaihoc/Desktop/TCH_AI/result/customer/checkpoint/weights_1.h5\n",
      "1478/1478 - 6s - loss: 55743.5977 - mae: 111.5219 - mse: 55743.5977 - 6s/epoch - 4ms/step\n",
      ">>> FOLD is 1\n",
      "Model: \"sequential\"\n",
      "_________________________________________________________________\n",
      " Layer (type)                Output Shape              Param #   \n",
      "=================================================================\n",
      " dense (Dense)               (None, 150)               7350      \n",
      "                                                                 \n",
      " batch_normalization (BatchN  (None, 150)              600       \n",
      " ormalization)                                                   \n",
      "                                                                 \n",
      " activation (Activation)     (None, 150)               0         \n",
      "                                                                 \n",
      " dropout (Dropout)           (None, 150)               0         \n",
      "                                                                 \n",
      " dense_1 (Dense)             (None, 50)                7550      \n",
      "                                                                 \n",
      " batch_normalization_1 (Batc  (None, 50)               200       \n",
      " hNormalization)                                                 \n",
      "                                                                 \n",
      " activation_1 (Activation)   (None, 50)                0         \n",
      "                                                                 \n",
      " dropout_1 (Dropout)         (None, 50)                0         \n",
      "                                                                 \n",
      " dense_2 (Dense)             (None, 10)                510       \n",
      "                                                                 \n",
      " batch_normalization_2 (Batc  (None, 10)               40        \n",
      " hNormalization)                                                 \n",
      "                                                                 \n",
      " activation_2 (Activation)   (None, 10)                0         \n",
      "                                                                 \n",
      " dropout_2 (Dropout)         (None, 10)                0         \n",
      "                                                                 \n",
      " dense_3 (Dense)             (None, 6)                 66        \n",
      "                                                                 \n",
      "=================================================================\n",
      "Total params: 16,316\n",
      "Trainable params: 15,896\n",
      "Non-trainable params: 420\n",
      "_________________________________________________________________\n",
      ">>> Calc fit shape is : (189110, 48)  -  (189110, 6)\n",
      "Epoch 1/5\n",
      "\n",
      "Epoch 00001: mse improved from inf to 57556.60156, saving model to /Users/thaihoc/Desktop/TCH_AI/result/customer/checkpoint/weights_2.h5\n",
      "1478/1478 - 8s - loss: 57556.6016 - mae: 113.3786 - mse: 57556.6016 - 8s/epoch - 5ms/step\n",
      "Epoch 2/5\n",
      "\n",
      "Epoch 00002: mse improved from 57556.60156 to 57259.75781, saving model to /Users/thaihoc/Desktop/TCH_AI/result/customer/checkpoint/weights_2.h5\n",
      "1478/1478 - 6s - loss: 57259.7578 - mae: 112.9819 - mse: 57259.7578 - 6s/epoch - 4ms/step\n",
      "Epoch 3/5\n",
      "\n",
      "Epoch 00003: mse improved from 57259.75781 to 56919.61719, saving model to /Users/thaihoc/Desktop/TCH_AI/result/customer/checkpoint/weights_2.h5\n",
      "1478/1478 - 6s - loss: 56919.6172 - mae: 112.5720 - mse: 56919.6172 - 6s/epoch - 4ms/step\n",
      "Epoch 4/5\n",
      "\n",
      "Epoch 00004: mse improved from 56919.61719 to 56498.52734, saving model to /Users/thaihoc/Desktop/TCH_AI/result/customer/checkpoint/weights_2.h5\n",
      "1478/1478 - 6s - loss: 56498.5273 - mae: 112.1481 - mse: 56498.5273 - 6s/epoch - 4ms/step\n",
      "Epoch 5/5\n",
      "\n",
      "Epoch 00005: mse improved from 56498.52734 to 55965.56250, saving model to /Users/thaihoc/Desktop/TCH_AI/result/customer/checkpoint/weights_2.h5\n",
      "1478/1478 - 7s - loss: 55965.5625 - mae: 111.6390 - mse: 55965.5625 - 7s/epoch - 5ms/step\n",
      ">>> FOLD is 2\n",
      "Model: \"sequential\"\n",
      "_________________________________________________________________\n",
      " Layer (type)                Output Shape              Param #   \n",
      "=================================================================\n",
      " dense (Dense)               (None, 150)               7350      \n",
      "                                                                 \n",
      " batch_normalization (BatchN  (None, 150)              600       \n",
      " ormalization)                                                   \n",
      "                                                                 \n",
      " activation (Activation)     (None, 150)               0         \n",
      "                                                                 \n",
      " dropout (Dropout)           (None, 150)               0         \n",
      "                                                                 \n",
      " dense_1 (Dense)             (None, 50)                7550      \n",
      "                                                                 \n",
      " batch_normalization_1 (Batc  (None, 50)               200       \n",
      " hNormalization)                                                 \n",
      "                                                                 \n",
      " activation_1 (Activation)   (None, 50)                0         \n",
      "                                                                 \n",
      " dropout_1 (Dropout)         (None, 50)                0         \n",
      "                                                                 \n",
      " dense_2 (Dense)             (None, 10)                510       \n",
      "                                                                 \n",
      " batch_normalization_2 (Batc  (None, 10)               40        \n",
      " hNormalization)                                                 \n",
      "                                                                 \n",
      " activation_2 (Activation)   (None, 10)                0         \n",
      "                                                                 \n",
      " dropout_2 (Dropout)         (None, 10)                0         \n",
      "                                                                 \n",
      " dense_3 (Dense)             (None, 6)                 66        \n",
      "                                                                 \n",
      "=================================================================\n",
      "Total params: 16,316\n",
      "Trainable params: 15,896\n",
      "Non-trainable params: 420\n",
      "_________________________________________________________________\n",
      ">>> Calc fit shape is : (189110, 48)  -  (189110, 6)\n",
      "Epoch 1/5\n"
     ]
    },
    {
     "name": "stdout",
     "output_type": "stream",
     "text": [
      "\n",
      "Epoch 00001: mse improved from inf to 57613.44141, saving model to /Users/thaihoc/Desktop/TCH_AI/result/customer/checkpoint/weights_3.h5\n",
      "1478/1478 - 10s - loss: 57613.4414 - mae: 113.4241 - mse: 57613.4414 - 10s/epoch - 7ms/step\n",
      "Epoch 2/5\n",
      "\n",
      "Epoch 00002: mse improved from 57613.44141 to 57320.72266, saving model to /Users/thaihoc/Desktop/TCH_AI/result/customer/checkpoint/weights_3.h5\n",
      "1478/1478 - 7s - loss: 57320.7227 - mae: 113.0331 - mse: 57320.7227 - 7s/epoch - 5ms/step\n",
      "Epoch 3/5\n",
      "\n",
      "Epoch 00003: mse improved from 57320.72266 to 56988.85156, saving model to /Users/thaihoc/Desktop/TCH_AI/result/customer/checkpoint/weights_3.h5\n",
      "1478/1478 - 7s - loss: 56988.8516 - mae: 112.5924 - mse: 56988.8516 - 7s/epoch - 5ms/step\n",
      "Epoch 4/5\n",
      "\n",
      "Epoch 00004: mse improved from 56988.85156 to 56572.58594, saving model to /Users/thaihoc/Desktop/TCH_AI/result/customer/checkpoint/weights_3.h5\n",
      "1478/1478 - 10s - loss: 56572.5859 - mae: 112.1204 - mse: 56572.5859 - 10s/epoch - 7ms/step\n",
      "Epoch 5/5\n",
      "\n",
      "Epoch 00005: mse improved from 56572.58594 to 56083.30078, saving model to /Users/thaihoc/Desktop/TCH_AI/result/customer/checkpoint/weights_3.h5\n",
      "1478/1478 - 11s - loss: 56083.3008 - mae: 111.6078 - mse: 56083.3008 - 11s/epoch - 8ms/step\n",
      ">>> FOLD is 3\n",
      "Model: \"sequential\"\n",
      "_________________________________________________________________\n",
      " Layer (type)                Output Shape              Param #   \n",
      "=================================================================\n",
      " dense (Dense)               (None, 150)               7350      \n",
      "                                                                 \n",
      " batch_normalization (BatchN  (None, 150)              600       \n",
      " ormalization)                                                   \n",
      "                                                                 \n",
      " activation (Activation)     (None, 150)               0         \n",
      "                                                                 \n",
      " dropout (Dropout)           (None, 150)               0         \n",
      "                                                                 \n",
      " dense_1 (Dense)             (None, 50)                7550      \n",
      "                                                                 \n",
      " batch_normalization_1 (Batc  (None, 50)               200       \n",
      " hNormalization)                                                 \n",
      "                                                                 \n",
      " activation_1 (Activation)   (None, 50)                0         \n",
      "                                                                 \n",
      " dropout_1 (Dropout)         (None, 50)                0         \n",
      "                                                                 \n",
      " dense_2 (Dense)             (None, 10)                510       \n",
      "                                                                 \n",
      " batch_normalization_2 (Batc  (None, 10)               40        \n",
      " hNormalization)                                                 \n",
      "                                                                 \n",
      " activation_2 (Activation)   (None, 10)                0         \n",
      "                                                                 \n",
      " dropout_2 (Dropout)         (None, 10)                0         \n",
      "                                                                 \n",
      " dense_3 (Dense)             (None, 6)                 66        \n",
      "                                                                 \n",
      "=================================================================\n",
      "Total params: 16,316\n",
      "Trainable params: 15,896\n",
      "Non-trainable params: 420\n",
      "_________________________________________________________________\n",
      ">>> Calc fit shape is : (189111, 48)  -  (189111, 6)\n",
      "Epoch 1/5\n",
      "\n",
      "Epoch 00001: mse improved from inf to 57544.75781, saving model to /Users/thaihoc/Desktop/TCH_AI/result/customer/checkpoint/weights_4.h5\n",
      "1478/1478 - 16s - loss: 57544.7578 - mae: 113.4197 - mse: 57544.7578 - 16s/epoch - 11ms/step\n",
      "Epoch 2/5\n",
      "\n",
      "Epoch 00002: mse improved from 57544.75781 to 57195.51953, saving model to /Users/thaihoc/Desktop/TCH_AI/result/customer/checkpoint/weights_4.h5\n",
      "1478/1478 - 9s - loss: 57195.5195 - mae: 113.1572 - mse: 57195.5195 - 9s/epoch - 6ms/step\n",
      "Epoch 3/5\n",
      "\n",
      "Epoch 00003: mse improved from 57195.51953 to 56793.33594, saving model to /Users/thaihoc/Desktop/TCH_AI/result/customer/checkpoint/weights_4.h5\n",
      "1478/1478 - 7s - loss: 56793.3359 - mae: 112.7595 - mse: 56793.3359 - 7s/epoch - 5ms/step\n",
      "Epoch 4/5\n",
      "\n",
      "Epoch 00004: mse improved from 56793.33594 to 56297.73828, saving model to /Users/thaihoc/Desktop/TCH_AI/result/customer/checkpoint/weights_4.h5\n",
      "1478/1478 - 7s - loss: 56297.7383 - mae: 112.2550 - mse: 56297.7383 - 7s/epoch - 5ms/step\n",
      "Epoch 5/5\n",
      "\n",
      "Epoch 00005: mse improved from 56297.73828 to 55705.55859, saving model to /Users/thaihoc/Desktop/TCH_AI/result/customer/checkpoint/weights_4.h5\n",
      "1478/1478 - 8s - loss: 55705.5586 - mae: 111.6544 - mse: 55705.5586 - 8s/epoch - 5ms/step\n",
      ">>> FOLD is 4\n",
      "Model: \"sequential\"\n",
      "_________________________________________________________________\n",
      " Layer (type)                Output Shape              Param #   \n",
      "=================================================================\n",
      " dense (Dense)               (None, 150)               7350      \n",
      "                                                                 \n",
      " batch_normalization (BatchN  (None, 150)              600       \n",
      " ormalization)                                                   \n",
      "                                                                 \n",
      " activation (Activation)     (None, 150)               0         \n",
      "                                                                 \n",
      " dropout (Dropout)           (None, 150)               0         \n",
      "                                                                 \n",
      " dense_1 (Dense)             (None, 50)                7550      \n",
      "                                                                 \n",
      " batch_normalization_1 (Batc  (None, 50)               200       \n",
      " hNormalization)                                                 \n",
      "                                                                 \n",
      " activation_1 (Activation)   (None, 50)                0         \n",
      "                                                                 \n",
      " dropout_1 (Dropout)         (None, 50)                0         \n",
      "                                                                 \n",
      " dense_2 (Dense)             (None, 10)                510       \n",
      "                                                                 \n",
      " batch_normalization_2 (Batc  (None, 10)               40        \n",
      " hNormalization)                                                 \n",
      "                                                                 \n",
      " activation_2 (Activation)   (None, 10)                0         \n",
      "                                                                 \n",
      " dropout_2 (Dropout)         (None, 10)                0         \n",
      "                                                                 \n",
      " dense_3 (Dense)             (None, 6)                 66        \n",
      "                                                                 \n",
      "=================================================================\n",
      "Total params: 16,316\n",
      "Trainable params: 15,896\n",
      "Non-trainable params: 420\n",
      "_________________________________________________________________\n",
      ">>> Calc fit shape is : (189111, 48)  -  (189111, 6)\n",
      "Epoch 1/5\n",
      "\n",
      "Epoch 00001: mse improved from inf to 57442.87891, saving model to /Users/thaihoc/Desktop/TCH_AI/result/customer/checkpoint/weights_5.h5\n",
      "1478/1478 - 13s - loss: 57442.8789 - mae: 113.2575 - mse: 57442.8789 - 13s/epoch - 9ms/step\n",
      "Epoch 2/5\n",
      "\n",
      "Epoch 00002: mse improved from 57442.87891 to 57052.72266, saving model to /Users/thaihoc/Desktop/TCH_AI/result/customer/checkpoint/weights_5.h5\n",
      "1478/1478 - 8s - loss: 57052.7227 - mae: 112.9379 - mse: 57052.7227 - 8s/epoch - 5ms/step\n",
      "Epoch 3/5\n",
      "\n",
      "Epoch 00003: mse improved from 57052.72266 to 56570.59766, saving model to /Users/thaihoc/Desktop/TCH_AI/result/customer/checkpoint/weights_5.h5\n",
      "1478/1478 - 7s - loss: 56570.5977 - mae: 112.4808 - mse: 56570.5977 - 7s/epoch - 5ms/step\n",
      "Epoch 4/5\n",
      "\n",
      "Epoch 00004: mse improved from 56570.59766 to 56000.24609, saving model to /Users/thaihoc/Desktop/TCH_AI/result/customer/checkpoint/weights_5.h5\n",
      "1478/1478 - 7s - loss: 56000.2461 - mae: 111.9041 - mse: 56000.2461 - 7s/epoch - 5ms/step\n"
     ]
    },
    {
     "name": "stdout",
     "output_type": "stream",
     "text": [
      "Epoch 5/5\n",
      "\n",
      "Epoch 00005: mse improved from 56000.24609 to 55324.88281, saving model to /Users/thaihoc/Desktop/TCH_AI/result/customer/checkpoint/weights_5.h5\n",
      "1478/1478 - 7s - loss: 55324.8828 - mae: 111.2390 - mse: 55324.8828 - 7s/epoch - 5ms/step\n"
     ]
    }
   ],
   "source": [
    "print(f\"Shape Training Data: {x_train.shape, y_train.shape}\")\n",
    "file_save_result = os.path.join(path_result_file, 'result.csv')\n",
    "VALIDATION_LOSS, VALIDATION_MAE, VALIDATION_MSE = main_crossvalidation(x_train, y_train, file_save_result)"
   ]
  },
  {
   "cell_type": "code",
   "execution_count": 169,
   "id": "ec250df8",
   "metadata": {},
   "outputs": [
    {
     "name": "stdout",
     "output_type": "stream",
     "text": [
      "MAE 111.10 (+/- 0.24)\n",
      "MSE 55442.56 (+/- 356.50)\n"
     ]
    }
   ],
   "source": [
    "print(\"MAE %.2f (+/- %.2f)\" % (np.mean(VALIDATION_MAE), np.std(VALIDATION_MAE)))\n",
    "print(\"MSE %.2f (+/- %.2f)\" % (np.mean(VALIDATION_MSE), np.std(VALIDATION_MSE)))"
   ]
  },
  {
   "cell_type": "code",
   "execution_count": 79,
   "id": "3b366068",
   "metadata": {},
   "outputs": [
    {
     "name": "stdout",
     "output_type": "stream",
     "text": [
      ">> RMSE:  48.85347\n"
     ]
    }
   ],
   "source": [
    "# predict model \n",
    "model = tf.keras.models.load_model(\"/Users/thaihoc/Desktop/TCH_AI/result/customer/checkpoint/weights_05_0.73.hdf5\")\n",
    "\n",
    "# rmse \n",
    "x_predicted = model.predict(x_train[:5])\n",
    "x_labeled = y_train[:5]\n",
    "mse = tf.reduce_mean(tf.square(tf.subtract(x_predicted, x_labeled)))\n",
    "rmse = tf.sqrt(mse)\n",
    "print(\">> RMSE: \", rmse.numpy())"
   ]
  },
  {
   "cell_type": "code",
   "execution_count": null,
   "id": "e6a672d4",
   "metadata": {},
   "outputs": [],
   "source": [
    "# copy file \n",
    "!cp -R /content/result/customer/ /content/gdrive/MyDrive/Downloads/\n",
    "!ls -lt /content/gdrive/MyDrive/Downloads/"
   ]
  },
  {
   "cell_type": "code",
   "execution_count": 98,
   "id": "a258a4bb",
   "metadata": {},
   "outputs": [],
   "source": [
    "# --------------"
   ]
  },
  {
   "cell_type": "code",
   "execution_count": 32,
   "id": "7a3a9af6",
   "metadata": {},
   "outputs": [],
   "source": [
    "import numpy as np\n",
    "y_check = np.asarray([[0.5, 0.3, 0.6, 0.1111, 0, 9]])\n",
    "y_predict = np.asarray([0.6])"
   ]
  },
  {
   "cell_type": "code",
   "execution_count": 101,
   "id": "e51d068e",
   "metadata": {},
   "outputs": [
    {
     "data": {
      "text/plain": [
       "(1, 3)"
      ]
     },
     "execution_count": 101,
     "metadata": {},
     "output_type": "execute_result"
    }
   ],
   "source": [
    "y_predict.shape"
   ]
  },
  {
   "cell_type": "code",
   "execution_count": 126,
   "id": "ed700965",
   "metadata": {},
   "outputs": [
    {
     "data": {
      "text/plain": [
       "<tf.Tensor: shape=(), dtype=float64, numpy=0.31622776601683794>"
      ]
     },
     "execution_count": 126,
     "metadata": {},
     "output_type": "execute_result"
    }
   ],
   "source": [
    "tf.sqrt(tf.reduce_sum(tf.pow(tf.subtract(y_check, y_predict), 2)))"
   ]
  },
  {
   "cell_type": "code",
   "execution_count": 123,
   "id": "a220bc72",
   "metadata": {},
   "outputs": [
    {
     "data": {
      "text/plain": [
       "<tf.Tensor: shape=(), dtype=float64, numpy=0.049999999999999996>"
      ]
     },
     "execution_count": 123,
     "metadata": {},
     "output_type": "execute_result"
    }
   ],
   "source": [
    "oss = tf.reduce_sum(tf.pow(y_check - y_predict, 2)) / (2 * 1)\n",
    "oss"
   ]
  },
  {
   "cell_type": "code",
   "execution_count": 152,
   "id": "24f1c7d5",
   "metadata": {},
   "outputs": [],
   "source": [
    "from sklearn.metrics import mean_squared_error"
   ]
  },
  {
   "cell_type": "code",
   "execution_count": 4,
   "id": "30adc589",
   "metadata": {},
   "outputs": [],
   "source": [
    "import tensorflow as tf\n",
    "mse = tf.keras.losses.MeanSquaredError()"
   ]
  },
  {
   "cell_type": "code",
   "execution_count": 115,
   "id": "26a05cbc",
   "metadata": {},
   "outputs": [
    {
     "data": {
      "text/plain": [
       "<tf.Tensor: shape=(), dtype=float64, numpy=0.03333333507180214>"
      ]
     },
     "execution_count": 115,
     "metadata": {},
     "output_type": "execute_result"
    }
   ],
   "source": [
    "mse(y_predict, y_check)"
   ]
  },
  {
   "cell_type": "code",
   "execution_count": 121,
   "id": "7655ab64",
   "metadata": {},
   "outputs": [
    {
     "data": {
      "text/plain": [
       "<tf.Tensor: shape=(), dtype=int32, numpy=4>"
      ]
     },
     "execution_count": 121,
     "metadata": {},
     "output_type": "execute_result"
    }
   ],
   "source": [
    "tf.square(2)"
   ]
  },
  {
   "cell_type": "code",
   "execution_count": 33,
   "id": "e75b6f5e",
   "metadata": {},
   "outputs": [
    {
     "data": {
      "text/plain": [
       "11.876503868333335"
      ]
     },
     "execution_count": 33,
     "metadata": {},
     "output_type": "execute_result"
    }
   ],
   "source": [
    "np.mean((y_predict-y_check)**2)"
   ]
  },
  {
   "cell_type": "code",
   "execution_count": 37,
   "id": "e6cd0151",
   "metadata": {},
   "outputs": [
    {
     "data": {
      "text/plain": [
       "<tf.Tensor: shape=(1,), dtype=float64, numpy=array([10.17986046])>"
      ]
     },
     "execution_count": 37,
     "metadata": {},
     "output_type": "execute_result"
    }
   ],
   "source": [
    "tf.reduce_sum(tf.square(y_check - y_predict), axis=-1) / 7"
   ]
  },
  {
   "cell_type": "code",
   "execution_count": 5,
   "id": "956dfb23",
   "metadata": {},
   "outputs": [
    {
     "name": "stderr",
     "output_type": "stream",
     "text": [
      "2021-12-01 19:16:31.599692: I tensorflow/core/platform/cpu_feature_guard.cc:151] This TensorFlow binary is optimized with oneAPI Deep Neural Network Library (oneDNN) to use the following CPU instructions in performance-critical operations:  AVX2 FMA\n",
      "To enable them in other operations, rebuild TensorFlow with the appropriate compiler flags.\n"
     ]
    },
    {
     "data": {
      "text/plain": [
       "<tf.Tensor: shape=(), dtype=float64, numpy=0.03333333333333333>"
      ]
     },
     "execution_count": 5,
     "metadata": {},
     "output_type": "execute_result"
    }
   ],
   "source": [
    "tf.reduce_mean(tf.pow(y_check - y_predict, 2))"
   ]
  },
  {
   "cell_type": "code",
   "execution_count": 34,
   "id": "1797dd2f",
   "metadata": {},
   "outputs": [
    {
     "data": {
      "text/plain": [
       "<tf.Tensor: shape=(1,), dtype=float64, numpy=array([11.87650387])>"
      ]
     },
     "execution_count": 34,
     "metadata": {},
     "output_type": "execute_result"
    }
   ],
   "source": [
    "tf.reduce_mean(tf.square(y_predict - y_check), axis=-1)"
   ]
  },
  {
   "cell_type": "code",
   "execution_count": null,
   "id": "03540896",
   "metadata": {},
   "outputs": [],
   "source": []
  }
 ],
 "metadata": {
  "kernelspec": {
   "display_name": "Python 3 (ipykernel)",
   "language": "python",
   "name": "python3"
  },
  "language_info": {
   "codemirror_mode": {
    "name": "ipython",
    "version": 3
   },
   "file_extension": ".py",
   "mimetype": "text/x-python",
   "name": "python",
   "nbconvert_exporter": "python",
   "pygments_lexer": "ipython3",
   "version": "3.7.9"
  }
 },
 "nbformat": 4,
 "nbformat_minor": 5
}
