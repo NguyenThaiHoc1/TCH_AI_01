{
 "cells": [
  {
   "cell_type": "code",
   "execution_count": 2,
   "metadata": {},
   "outputs": [],
   "source": [
    "# import package\n",
    "import os\n",
    "import numpy as np\n",
    "import pandas as pd\n",
    "import seaborn as sns\n",
    "import matplotlib.pyplot as plt\n",
    "\n",
    "import warnings\n",
    "warnings.filterwarnings('ignore')\n",
    "%matplotlib inline"
   ]
  },
  {
   "cell_type": "code",
   "execution_count": 3,
   "metadata": {},
   "outputs": [],
   "source": [
    "path_root = os.path.dirname(os.path.abspath('')) # get path root folder\n",
    "path_dataset = os.path.join(path_root, 'dataset', 'dataset.xlsx')\n",
    "path_result_file = os.path.join(path_root, 'result', 'customer')\n",
    "file_save_result = os.path.join(path_result_file, 'result.csv')"
   ]
  },
  {
   "cell_type": "code",
   "execution_count": null,
   "metadata": {},
   "outputs": [],
   "source": [
    "def load_sensor_data(path):\n",
    "    return pd.read_excel(path, skiprows = range(0, 2))\n",
    "\n",
    "def drop_column(df):\n",
    "    x = [0, 1, 2, 3, 4] #  0: Unnamed-0, Unnamed-1, Unnamed-2,  データＩＤ, Time\n",
    "    df_droped = df.drop(df.columns[x], axis=1)\n",
    "    return df_droped\n",
    "\n",
    "\n",
    "# Task 1: Loading data from file excel \n",
    "data = load_sensor_data(path=path_dataset)\n",
    "\n",
    "# Task 2: change name column\n",
    "data_copy = data.copy()\n",
    "data_copy.rename(columns={'Unnamed: 0': 'datecheck-ID', \n",
    "                          'Unnamed: 1': 'shoes-ID',\n",
    "                          'Unnamed: 2': 'balance-status',\n",
    "                          'データＩＤ':'set-ID',\n",
    "                         }, inplace = True)\n",
    "\n",
    "# Task 3: removing feature which relate to train\n",
    "data_copy = drop_column(df=data_copy)"
   ]
  },
  {
   "cell_type": "code",
   "execution_count": null,
   "metadata": {},
   "outputs": [],
   "source": [
    "# checking skew, kurt \n",
    "from scipy.special import boxcox1p\n",
    "from scipy.stats import norm, skew, kurtosis #for some statistics\n",
    "\n",
    "def tranform_data(value):\n",
    "    return np.sign(value) * np.log(np.abs(value) + 1)\n",
    "\n",
    "def show_skew_kurt(data_show):\n",
    "    numeric_feats = data_show.dtypes[data_show.dtypes != \"object\"].index\n",
    "    # Check the skew of all numerical features\n",
    "    skewed_feats = data_show[numeric_feats].apply(lambda x: skew(x.dropna())).sort_values(ascending=False)\n",
    "    kurt_feats = data_show[numeric_feats].apply(lambda x: kurtosis(x.dropna())).sort_values(ascending=False)\n",
    "    print(\"\\nSkew in numerical features: \\n\")\n",
    "    skewness = pd.DataFrame({'Skew' :skewed_feats, 'Kurt': kurt_feats})\n",
    "    return skewness\n",
    "    \n",
    "def standardiziation(dataframe, skewness):\n",
    "    skewness = skewness[abs(skewness) > 0.75]\n",
    "    print(\"There are {} skewed numerical features to Box Cox transform\".format(skewness.shape[0]))\n",
    "\n",
    "    skewed_features = skewness.index\n",
    "    lam = 0.15\n",
    "    for feat in skewed_features:\n",
    "#         dataframe[feat] = boxcox1p(dataframe[feat], lam)\n",
    "        dataframe[feat] = tranform_data(dataframe[feat])\n",
    "    return dataframe\n",
    "    "
   ]
  },
  {
   "cell_type": "code",
   "execution_count": null,
   "metadata": {},
   "outputs": [],
   "source": [
    "skewness = show_skew_kurt(data_copy)"
   ]
  },
  {
   "cell_type": "code",
   "execution_count": null,
   "metadata": {},
   "outputs": [],
   "source": [
    "data_frame = standardiziation(data_copy.copy(), skewness)"
   ]
  },
  {
   "cell_type": "code",
   "execution_count": null,
   "metadata": {},
   "outputs": [],
   "source": [
    "show_skew_kurt(data_frame)"
   ]
  },
  {
   "cell_type": "code",
   "execution_count": null,
   "metadata": {},
   "outputs": [],
   "source": [
    "data_frame.info()"
   ]
  },
  {
   "cell_type": "code",
   "execution_count": null,
   "metadata": {},
   "outputs": [],
   "source": [
    "############################"
   ]
  },
  {
   "cell_type": "code",
   "execution_count": 10,
   "metadata": {},
   "outputs": [],
   "source": [
    "# Saving ... \n",
    "from sklearn.model_selection import train_test_split\n",
    "train_set, test_set = train_test_split(data_frame, test_size=0.2, random_state=42)\n",
    "\n",
    "label_columns = [\"L-FX\", \"L-FY\", \"L-FZ\", \"R-FX\", \"R-FY\", \"R-FZ\"]\n",
    "data_training = train_set.drop(label_columns, axis=1)\n",
    "data_labels = train_set[label_columns].copy()\n",
    "\n",
    "data_test = test_set.drop(label_columns, axis=1)\n",
    "data_test_labels = test_set[label_columns].copy()"
   ]
  },
  {
   "cell_type": "code",
   "execution_count": 11,
   "metadata": {},
   "outputs": [
    {
     "name": "stdout",
     "output_type": "stream",
     "text": [
      "the amount of data train: (189110, 48) - the amount of data test: (47278, 48)\n",
      "the amount of labels train: (189110, 6) - the amount of labels test: (47278, 6)\n"
     ]
    }
   ],
   "source": [
    "print(\"the amount of data train: %s - the amount of data test: %s\" % (data_training.shape, data_test.shape))\n",
    "print(\"the amount of labels train: %s - the amount of labels test: %s\" % (data_labels.shape, data_test_labels.shape))"
   ]
  },
  {
   "cell_type": "code",
   "execution_count": 12,
   "metadata": {},
   "outputs": [],
   "source": [
    "# building Model \n",
    "n_folds = 5\n",
    "\n",
    "def rmsle_cv(model, train, label):\n",
    "    kf = KFold(n_folds, shuffle=True, random_state=42).get_n_splits(train.values)\n",
    "    mse = -cross_val_score(model, train.values, label.values, scoring=\"neg_mean_squared_error\", cv = kf)\n",
    "    return (mse)\n"
   ]
  },
  {
   "cell_type": "code",
   "execution_count": 13,
   "metadata": {},
   "outputs": [],
   "source": [
    "from sklearn.pipeline import make_pipeline\n",
    "from sklearn.preprocessing import RobustScaler\n",
    "from sklearn.linear_model import ElasticNet, Lasso,  BayesianRidge, LassoLarsIC, LinearRegression\n",
    "from sklearn.kernel_ridge import KernelRidge\n",
    "from sklearn.model_selection import KFold, cross_val_score, train_test_split\n",
    "from sklearn.preprocessing import StandardScaler\n",
    "\n",
    "# init model \n",
    "linearmodel = LinearRegression()\n",
    "lasso = make_pipeline(StandardScaler(), Lasso(alpha =0.0005, random_state=1))\n",
    "ENet = make_pipeline(StandardScaler(), ElasticNet(alpha=0.0005, l1_ratio=.9, random_state=3))\n",
    "KRR = KernelRidge(alpha=0.6, kernel='polynomial', degree=2, coef0=2.5)\n",
    "\n"
   ]
  },
  {
   "cell_type": "code",
   "execution_count": 14,
   "metadata": {},
   "outputs": [
    {
     "name": "stdout",
     "output_type": "stream",
     "text": [
      "[3.16113352 3.15686199 3.1758528  3.17151857 3.16170399]\n",
      "\n",
      "Lasso score: 3.1654 (0.0071)\n",
      "\n"
     ]
    }
   ],
   "source": [
    "score = rmsle_cv(lasso, data_training, data_labels)\n",
    "print(score)\n",
    "print(\"\\nLasso score: {:.4f} ({:.4f})\\n\".format(score.mean(), score.std()))"
   ]
  },
  {
   "cell_type": "code",
   "execution_count": 15,
   "metadata": {},
   "outputs": [
    {
     "name": "stdout",
     "output_type": "stream",
     "text": [
      "[3.16117154 3.15687129 3.17582545 3.17149486 3.16167333]\n",
      "\n",
      "Linear model score: 3.1654 (0.0071)\n",
      "\n"
     ]
    }
   ],
   "source": [
    "score = rmsle_cv(linearmodel, data_training, data_labels)\n",
    "print(score)\n",
    "print(\"\\nLinear model score: {:.4f} ({:.4f})\\n\".format(score.mean(), score.std()))"
   ]
  },
  {
   "cell_type": "code",
   "execution_count": 16,
   "metadata": {},
   "outputs": [
    {
     "name": "stdout",
     "output_type": "stream",
     "text": [
      "[3.16113547 3.15686098 3.1758485  3.1715155  3.16169985]\n",
      "\n",
      "ElasticNet score: 3.1654 (0.0071)\n",
      "\n"
     ]
    }
   ],
   "source": [
    "score = rmsle_cv(ENet, data_training, data_labels)\n",
    "print(score)\n",
    "print(\"\\nElasticNet score: {:.4f} ({:.4f})\\n\".format(score.mean(), score.std()))"
   ]
  },
  {
   "cell_type": "code",
   "execution_count": 1,
   "metadata": {},
   "outputs": [
    {
     "ename": "NameError",
     "evalue": "name 'rmsle_cv' is not defined",
     "output_type": "error",
     "traceback": [
      "\u001b[0;31m---------------------------------------------------------------------------\u001b[0m",
      "\u001b[0;31mNameError\u001b[0m                                 Traceback (most recent call last)",
      "\u001b[0;32m/var/folders/jy/5zjml4q54dv2fmdqz2xvwc3w0000gn/T/ipykernel_4655/1017123861.py\u001b[0m in \u001b[0;36m<module>\u001b[0;34m\u001b[0m\n\u001b[0;32m----> 1\u001b[0;31m \u001b[0mscore\u001b[0m \u001b[0;34m=\u001b[0m \u001b[0mrmsle_cv\u001b[0m\u001b[0;34m(\u001b[0m\u001b[0mKRR\u001b[0m\u001b[0;34m,\u001b[0m \u001b[0mdata_training\u001b[0m\u001b[0;34m,\u001b[0m \u001b[0mdata_labels\u001b[0m\u001b[0;34m)\u001b[0m\u001b[0;34m\u001b[0m\u001b[0;34m\u001b[0m\u001b[0m\n\u001b[0m\u001b[1;32m      2\u001b[0m \u001b[0mprint\u001b[0m\u001b[0;34m(\u001b[0m\u001b[0mscore\u001b[0m\u001b[0;34m)\u001b[0m\u001b[0;34m\u001b[0m\u001b[0;34m\u001b[0m\u001b[0m\n\u001b[1;32m      3\u001b[0m \u001b[0mprint\u001b[0m\u001b[0;34m(\u001b[0m\u001b[0;34m\"\\nKernel Ridge score: {:.4f} ({:.4f})\\n\"\u001b[0m\u001b[0;34m.\u001b[0m\u001b[0mformat\u001b[0m\u001b[0;34m(\u001b[0m\u001b[0mscore\u001b[0m\u001b[0;34m.\u001b[0m\u001b[0mmean\u001b[0m\u001b[0;34m(\u001b[0m\u001b[0;34m)\u001b[0m\u001b[0;34m,\u001b[0m \u001b[0mscore\u001b[0m\u001b[0;34m.\u001b[0m\u001b[0mstd\u001b[0m\u001b[0;34m(\u001b[0m\u001b[0;34m)\u001b[0m\u001b[0;34m)\u001b[0m\u001b[0;34m)\u001b[0m\u001b[0;34m\u001b[0m\u001b[0;34m\u001b[0m\u001b[0m\n",
      "\u001b[0;31mNameError\u001b[0m: name 'rmsle_cv' is not defined"
     ]
    }
   ],
   "source": [
    "score = rmsle_cv(KRR, data_training, data_labels)\n",
    "print(score)\n",
    "print(\"\\nKernel Ridge score: {:.4f} ({:.4f})\\n\".format(score.mean(), score.std()))"
   ]
  },
  {
   "cell_type": "code",
   "execution_count": null,
   "metadata": {},
   "outputs": [],
   "source": [
    "score = rmsle_cv(GBoost)\n",
    "print(score)\n",
    "print(\"\\nGradient Boosting score: {:.4f} ({:.4f})\\n\".format(score.mean(), score.std()))"
   ]
  }
 ],
 "metadata": {
  "kernelspec": {
   "display_name": "Python 3 (ipykernel)",
   "language": "python",
   "name": "python3"
  },
  "language_info": {
   "codemirror_mode": {
    "name": "ipython",
    "version": 3
   },
   "file_extension": ".py",
   "mimetype": "text/x-python",
   "name": "python",
   "nbconvert_exporter": "python",
   "pygments_lexer": "ipython3",
   "version": "3.7.9"
  }
 },
 "nbformat": 4,
 "nbformat_minor": 1
}
